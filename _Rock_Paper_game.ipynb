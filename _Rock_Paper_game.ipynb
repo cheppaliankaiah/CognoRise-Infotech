{
 "cells": [
  {
   "cell_type": "markdown",
   "id": "60d1f2ea-facc-499b-93e6-508a0c1904e7",
   "metadata": {},
   "source": [
    "# Rock_Paper_game"
   ]
  },
  {
   "cell_type": "code",
   "execution_count": null,
   "id": "35f75f4b-4c92-4769-bf81-8d96aa3d8dc2",
   "metadata": {},
   "outputs": [
    {
     "name": "stdout",
     "output_type": "stream",
     "text": [
      "lets play the game...\n"
     ]
    }
   ],
   "source": [
    "import random\n",
    "def get_user_choice():\n",
    "    user_choice=input(\"enter your choice[rock,paper,scissors]:-\").upper()\n",
    "    while user_choice not in[\"ROCK\",\"PAPER\",\"SCISSORS\"]:\n",
    "        print(\"invalid user choice.please enter valid choice...\")\n",
    "        user_choice=input(\"enter your choice[rock,paper,scissors]:-\").upper()\n",
    "    return user_choice\n",
    "\n",
    "def get_computer_choice():\n",
    "    return random.choice([\"ROCK\",\"PAPER\",\"SCISSORS\"])\n",
    "\n",
    "def determine_winner(user_choice,computer_choice):\n",
    "    if(user_choice==computer_choice):\n",
    "        return \"It's a tie...!\"\n",
    "    elif((user_choice==\"ROCK\" and computer_choice==\"SCISSORS\") or \n",
    "         (user_choice==\"ROCK\" and computer_choice==\"PAPER\") or\n",
    "         (user_choice==\"SCISSORS\" and computer_choice==\"PAER\")):\n",
    "        return \"You win....!\"\n",
    "    else:\n",
    "        return \"computer win...!\"\n",
    "def play_game():\n",
    "    print(\"lets play the game...\")\n",
    "    user_choice=get_user_choice()\n",
    "    computer_choice=get_computer_choice()\n",
    "    print(\"Player_choice : \",user_choice)\n",
    "    print(\"Computer_choice : \",computer_choice)\n",
    "    result=determine_winner(user_choice,computer_choice)\n",
    "    print(result)\n",
    "play_game()"
   ]
  },
  {
   "cell_type": "code",
   "execution_count": null,
   "id": "adaa965f-e387-477a-8b0b-bbc234f7a61f",
   "metadata": {},
   "outputs": [],
   "source": []
  }
 ],
 "metadata": {
  "kernelspec": {
   "display_name": "Python 3 (ipykernel)",
   "language": "python",
   "name": "python3"
  },
  "language_info": {
   "codemirror_mode": {
    "name": "ipython",
    "version": 3
   },
   "file_extension": ".py",
   "mimetype": "text/x-python",
   "name": "python",
   "nbconvert_exporter": "python",
   "pygments_lexer": "ipython3",
   "version": "3.12.1"
  }
 },
 "nbformat": 4,
 "nbformat_minor": 5
}
