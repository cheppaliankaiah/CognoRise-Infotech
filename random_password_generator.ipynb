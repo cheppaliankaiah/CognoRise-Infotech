{
 "cells": [
  {
   "cell_type": "markdown",
   "id": "a1b4ba31-2212-476c-ba08-80274425733d",
   "metadata": {},
   "source": [
    "# random password generater"
   ]
  },
  {
   "cell_type": "code",
   "execution_count": 1,
   "id": "c7d52259-28a0-4077-95fa-857973898b1f",
   "metadata": {},
   "outputs": [
    {
     "name": "stdin",
     "output_type": "stream",
     "text": [
      "enter the password length you require:- 7\n"
     ]
    },
    {
     "name": "stdout",
     "output_type": "stream",
     "text": [
      "generated password= na!kr(r\n"
     ]
    }
   ],
   "source": [
    "import random\n",
    "import string\n",
    "def generate_password(length):\n",
    "    password=''\n",
    "    character=string.ascii_letters + string.digits + string.punctuation\n",
    "    for _ in range(length):\n",
    "       random_pass=random.choice(character)\n",
    "       password=password+random_pass\n",
    "    return password\n",
    "length=int(input(\"enter the password length you require:-\"))\n",
    "result=generate_password(length)\n",
    "print(\"generated password=\",result)\n"
   ]
  }
 ],
 "metadata": {
  "kernelspec": {
   "display_name": "Python 3 (ipykernel)",
   "language": "python",
   "name": "python3"
  },
  "language_info": {
   "codemirror_mode": {
    "name": "ipython",
    "version": 3
   },
   "file_extension": ".py",
   "mimetype": "text/x-python",
   "name": "python",
   "nbconvert_exporter": "python",
   "pygments_lexer": "ipython3",
   "version": "3.12.1"
  }
 },
 "nbformat": 4,
 "nbformat_minor": 5
}
