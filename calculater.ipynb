{
 "cells": [
  {
   "cell_type": "markdown",
   "id": "a09f241e-6351-44df-b298-254b365e6c6e",
   "metadata": {},
   "source": [
    "# Calculater"
   ]
  },
  {
   "cell_type": "code",
   "execution_count": null,
   "id": "324a46da-689a-46e2-96f3-fef970734821",
   "metadata": {},
   "outputs": [
    {
     "name": "stdout",
     "output_type": "stream",
     "text": [
      "select operator:-\n",
      "1.add\n",
      "2.sub\n",
      "3.mul\n",
      "4.div\n"
     ]
    },
    {
     "name": "stdin",
     "output_type": "stream",
     "text": [
      "enter your choice(1,2,3,4):- 3\n",
      "enter first number:- 3\n",
      "enter second number:- 3\n"
     ]
    },
    {
     "name": "stdout",
     "output_type": "stream",
     "text": [
      "result= 9.0\n"
     ]
    }
   ],
   "source": [
    "def add(num1,num2):\n",
    "    return num1+num2\n",
    "def sub(num1,num2):\n",
    "    return num1-num2\n",
    "def mul(num1,num2):\n",
    "    return num1*num2\n",
    "def div(num1,num2):\n",
    "    if(num2!=0):\n",
    "        return num1//num2\n",
    "    else:\n",
    "        print(\"denominator not should be zero\")\n",
    "\n",
    "print(\"select operator:-\")\n",
    "print(\"1.add\")\n",
    "print(\"2.sub\")\n",
    "print(\"3.mul\")\n",
    "print(\"4.div\")\n",
    "while True:\n",
    "    choice=int(input(\"enter your choice(1,2,3,4):-\"))\n",
    "    if(choice in (1,2,3,4)):\n",
    "        try:\n",
    "            num1=float(input(\"enter first number:-\"))\n",
    "            num2=float(input(\"enter second number:-\"))\n",
    "        except ValueError:\n",
    "            print(\"Invalid input.enter correct number\")\n",
    "            continue\n",
    "        if(choice==1):\n",
    "            res=add(num1,num2)\n",
    "        elif(choice==2):\n",
    "            res=sub(num1,num2)\n",
    "        elif(choice==3):\n",
    "            res=mul(num1,num2)\n",
    "        else:\n",
    "            res=div(num1,num2)\n",
    "        print(\"result=\",res)\n",
    "        next_cal=input(\"do next calculation?(yes/no)\").lower()\n",
    "        if(next_cal==\"no\"):\n",
    "            break\n",
    "    else:\n",
    "        print(\"invalid input\")"
   ]
  },
  {
   "cell_type": "code",
   "execution_count": null,
   "id": "d0fe2ab9-72f9-4b97-807b-3130be4eb7c0",
   "metadata": {},
   "outputs": [],
   "source": []
  }
 ],
 "metadata": {
  "kernelspec": {
   "display_name": "Python 3 (ipykernel)",
   "language": "python",
   "name": "python3"
  },
  "language_info": {
   "codemirror_mode": {
    "name": "ipython",
    "version": 3
   },
   "file_extension": ".py",
   "mimetype": "text/x-python",
   "name": "python",
   "nbconvert_exporter": "python",
   "pygments_lexer": "ipython3",
   "version": "3.12.1"
  }
 },
 "nbformat": 4,
 "nbformat_minor": 5
}
